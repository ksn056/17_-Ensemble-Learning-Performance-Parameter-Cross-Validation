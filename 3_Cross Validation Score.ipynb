{
 "cells": [
  {
   "cell_type": "code",
   "execution_count": 14,
   "metadata": {
    "executionInfo": {
     "elapsed": 413,
     "status": "ok",
     "timestamp": 1672755848380,
     "user": {
      "displayName": "KIPTURN Techno Solutions",
      "userId": "01744339202873123277"
     },
     "user_tz": -330
    },
    "id": "ajdZ5aIgusxG"
   },
   "outputs": [],
   "source": [
    "from sklearn.linear_model import LogisticRegression\n",
    "from sklearn.svm import SVC\n",
    "from sklearn.ensemble import RandomForestClassifier"
   ]
  },
  {
   "cell_type": "code",
   "execution_count": 15,
   "metadata": {},
   "outputs": [],
   "source": [
    "import numpy as np\n",
    "import matplotlib.pyplot as plt"
   ]
  },
  {
   "cell_type": "code",
   "execution_count": 16,
   "metadata": {},
   "outputs": [],
   "source": [
    "from sklearn.datasets import load_digits\n",
    "digits = load_digits()\n"
   ]
  },
  {
   "cell_type": "code",
   "execution_count": 17,
   "metadata": {},
   "outputs": [],
   "source": [
    "from sklearn.model_selection import train_test_split\n",
    "X_train, X_test, y_train, y_test = train_test_split(digits.data,digits.target,test_size=0.3)"
   ]
  },
  {
   "cell_type": "code",
   "execution_count": 18,
   "metadata": {
    "colab": {
     "base_uri": "https://localhost:8080/"
    },
    "executionInfo": {
     "elapsed": 434,
     "status": "ok",
     "timestamp": 1672755943132,
     "user": {
      "displayName": "KIPTURN Techno Solutions",
      "userId": "01744339202873123277"
     },
     "user_tz": -330
    },
    "id": "X2XSXlSyu1et",
    "outputId": "4e44867d-cd5f-47ca-9972-aba172814719"
   },
   "outputs": [
    {
     "data": {
      "text/plain": [
       "0.9629629629629629"
      ]
     },
     "execution_count": 18,
     "metadata": {},
     "output_type": "execute_result"
    }
   ],
   "source": [
    "lr = LogisticRegression(solver='liblinear',multi_class='ovr')\n",
    "lr.fit(X_train, y_train)\n",
    "lr.score(X_test, y_test)"
   ]
  },
  {
   "cell_type": "code",
   "execution_count": 19,
   "metadata": {
    "colab": {
     "base_uri": "https://localhost:8080/"
    },
    "executionInfo": {
     "elapsed": 524,
     "status": "ok",
     "timestamp": 1672755958562,
     "user": {
      "displayName": "KIPTURN Techno Solutions",
      "userId": "01744339202873123277"
     },
     "user_tz": -330
    },
    "id": "K8tkSKg5u78i",
    "outputId": "6898c961-d134-4efa-c666-89f4df4d7e46"
   },
   "outputs": [
    {
     "data": {
      "text/plain": [
       "0.4111111111111111"
      ]
     },
     "execution_count": 19,
     "metadata": {},
     "output_type": "execute_result"
    }
   ],
   "source": [
    "svm = SVC(gamma='auto')\n",
    "svm.fit(X_train, y_train)\n",
    "svm.score(X_test, y_test)"
   ]
  },
  {
   "cell_type": "code",
   "execution_count": 20,
   "metadata": {
    "colab": {
     "base_uri": "https://localhost:8080/"
    },
    "executionInfo": {
     "elapsed": 379,
     "status": "ok",
     "timestamp": 1672755983048,
     "user": {
      "displayName": "KIPTURN Techno Solutions",
      "userId": "01744339202873123277"
     },
     "user_tz": -330
    },
    "id": "heOiH8MvvGhR",
    "outputId": "8bea9a80-168e-41f7-f5cf-a1a2b85b1568"
   },
   "outputs": [
    {
     "data": {
      "text/plain": [
       "0.9703703703703703"
      ]
     },
     "execution_count": 20,
     "metadata": {},
     "output_type": "execute_result"
    }
   ],
   "source": [
    "rf = RandomForestClassifier(n_estimators=40)\n",
    "rf.fit(X_train, y_train)\n",
    "rf.score(X_test, y_test)"
   ]
  },
  {
   "cell_type": "markdown",
   "metadata": {
    "id": "9c0hkt2pvOkz"
   },
   "source": [
    "Scores from the above list of algorithms Logistic Regression and Random Forest are doing comparatively better than SVM"
   ]
  },
  {
   "cell_type": "markdown",
   "metadata": {
    "id": "LP8n4KxZvV_J"
   },
   "source": [
    "Now will use cross_val_score function and get the scores, passing different algorithms with dataset and cv"
   ]
  },
  {
   "cell_type": "code",
   "execution_count": 21,
   "metadata": {
    "executionInfo": {
     "elapsed": 8,
     "status": "ok",
     "timestamp": 1672751196141,
     "user": {
      "displayName": "KIPTURN Techno Solutions",
      "userId": "01744339202873123277"
     },
     "user_tz": -330
    },
    "id": "BQ9aozb8vPXh"
   },
   "outputs": [],
   "source": [
    "from sklearn.model_selection import cross_val_score"
   ]
  },
  {
   "cell_type": "code",
   "execution_count": 22,
   "metadata": {
    "colab": {
     "base_uri": "https://localhost:8080/"
    },
    "executionInfo": {
     "elapsed": 1084,
     "status": "ok",
     "timestamp": 1672756273129,
     "user": {
      "displayName": "KIPTURN Techno Solutions",
      "userId": "01744339202873123277"
     },
     "user_tz": -330
    },
    "id": "w_nrz1NxveVy",
    "outputId": "342d0441-a3c8-4e18-9e74-bab92cd8ee1a"
   },
   "outputs": [
    {
     "name": "stdout",
     "output_type": "stream",
     "text": [
      "[0.89482471 0.95325543 0.90984975]\n",
      "Avg : 0.9193099610461881\n"
     ]
    }
   ],
   "source": [
    "score_lr=cross_val_score(LogisticRegression(solver='liblinear',multi_class='ovr'), digits.data, digits.target,cv=3)\n",
    "print(score_lr)\n",
    "print(\"Avg :\",np.average(score_lr))"
   ]
  },
  {
   "cell_type": "code",
   "execution_count": 23,
   "metadata": {
    "colab": {
     "base_uri": "https://localhost:8080/"
    },
    "executionInfo": {
     "elapsed": 1147,
     "status": "ok",
     "timestamp": 1672756326273,
     "user": {
      "displayName": "KIPTURN Techno Solutions",
      "userId": "01744339202873123277"
     },
     "user_tz": -330
    },
    "id": "3SYpA1eDv8Oh",
    "outputId": "1ba8e70a-7bd8-475f-f1d7-97654ffdccca"
   },
   "outputs": [
    {
     "name": "stdout",
     "output_type": "stream",
     "text": [
      "[0.38063439 0.41068447 0.51252087]\n",
      "Avg : 0.4346132442960489\n"
     ]
    }
   ],
   "source": [
    "score_svm =cross_val_score(SVC(gamma='auto'), digits.data, digits.target,cv=3)\n",
    "print(score_svm)\n",
    "print('Avg :',np.average(score_svm))"
   ]
  },
  {
   "cell_type": "code",
   "execution_count": 24,
   "metadata": {
    "colab": {
     "base_uri": "https://localhost:8080/"
    },
    "executionInfo": {
     "elapsed": 1064,
     "status": "ok",
     "timestamp": 1672756360083,
     "user": {
      "displayName": "KIPTURN Techno Solutions",
      "userId": "01744339202873123277"
     },
     "user_tz": -330
    },
    "id": "ff-Ee1EbwFN6",
    "outputId": "d956a260-0126-4b80-e179-244e298b720e"
   },
   "outputs": [
    {
     "name": "stdout",
     "output_type": "stream",
     "text": [
      "[0.92487479 0.94490818 0.92487479]\n",
      "Avg : 0.9315525876460767\n"
     ]
    }
   ],
   "source": [
    "score_rf=cross_val_score(RandomForestClassifier(n_estimators=40),digits.data, digits.target,cv=3)\n",
    "print(score_rf)\n",
    "print('Avg :',np.average(score_rf))"
   ]
  },
  {
   "cell_type": "markdown",
   "metadata": {
    "id": "OtY8aq-DwzqC"
   },
   "source": [
    "![image.png](data:image/png;base64,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)"
   ]
  },
  {
   "cell_type": "markdown",
   "metadata": {
    "id": "62xkhb9IxC1R"
   },
   "source": [
    "**Parameter Tuning Using K-Fold**"
   ]
  },
  {
   "cell_type": "markdown",
   "metadata": {
    "id": "f384RuEnxKQJ"
   },
   "source": [
    "Let us consider the RandomForestClassifier for this analysis, and n_estimators is our parameter for this case and CV as 10 (commonly used)"
   ]
  },
  {
   "cell_type": "code",
   "execution_count": 25,
   "metadata": {
    "colab": {
     "base_uri": "https://localhost:8080/"
    },
    "executionInfo": {
     "elapsed": 369,
     "status": "ok",
     "timestamp": 1672756498330,
     "user": {
      "displayName": "KIPTURN Techno Solutions",
      "userId": "01744339202873123277"
     },
     "user_tz": -330
    },
    "id": "J_Zg3mtyxCTa",
    "outputId": "39f2fdf4-7d28-4c70-852b-9873f49e6ed0"
   },
   "outputs": [
    {
     "name": "stdout",
     "output_type": "stream",
     "text": [
      "Avg Score for Estimators=5 and CV=10 : 0.8814463066418374\n"
     ]
    }
   ],
   "source": [
    "scores1 = cross_val_score(RandomForestClassifier(n_estimators=5),digits.data, digits.target, cv=10)\n",
    "print('Avg Score for Estimators=5 and CV=10 :',np.average(scores1))"
   ]
  },
  {
   "cell_type": "code",
   "execution_count": 26,
   "metadata": {
    "colab": {
     "base_uri": "https://localhost:8080/"
    },
    "executionInfo": {
     "elapsed": 2078,
     "status": "ok",
     "timestamp": 1672756543347,
     "user": {
      "displayName": "KIPTURN Techno Solutions",
      "userId": "01744339202873123277"
     },
     "user_tz": -330
    },
    "id": "WxcNOxblw3h5",
    "outputId": "6b2fe22d-5366-4ef2-c240-540efae8e326"
   },
   "outputs": [
    {
     "name": "stdout",
     "output_type": "stream",
     "text": [
      "Avg Score for Estimators=20 and CV=10 : 0.936542520173805\n"
     ]
    }
   ],
   "source": [
    "scores1 = cross_val_score(RandomForestClassifier(n_estimators=20),digits.data, digits.target, cv=10)\n",
    "print('Avg Score for Estimators=20 and CV=10 :',np.average(scores1))"
   ]
  },
  {
   "cell_type": "code",
   "execution_count": 27,
   "metadata": {
    "colab": {
     "base_uri": "https://localhost:8080/"
    },
    "executionInfo": {
     "elapsed": 1800,
     "status": "ok",
     "timestamp": 1672756599748,
     "user": {
      "displayName": "KIPTURN Techno Solutions",
      "userId": "01744339202873123277"
     },
     "user_tz": -330
    },
    "id": "Q_ryx-n0xw8B",
    "outputId": "92650be9-9ca2-48c0-9826-69351c618460"
   },
   "outputs": [
    {
     "name": "stdout",
     "output_type": "stream",
     "text": [
      "Avg Score for Estimators=30 and CV=10 : 0.9359962756052141\n"
     ]
    }
   ],
   "source": [
    "scores1 = cross_val_score(RandomForestClassifier(n_estimators=30),digits.data, digits.target, cv=10)\n",
    "print('Avg Score for Estimators=30 and CV=10 :',np.average(scores1))"
   ]
  },
  {
   "cell_type": "code",
   "execution_count": 28,
   "metadata": {
    "colab": {
     "base_uri": "https://localhost:8080/"
    },
    "executionInfo": {
     "elapsed": 2187,
     "status": "ok",
     "timestamp": 1672756614128,
     "user": {
      "displayName": "KIPTURN Techno Solutions",
      "userId": "01744339202873123277"
     },
     "user_tz": -330
    },
    "id": "nfjmmAiIx1Bt",
    "outputId": "e4b202dc-15ed-410e-cfae-269f0f649feb"
   },
   "outputs": [
    {
     "name": "stdout",
     "output_type": "stream",
     "text": [
      "Avg Score for Estimators=40 and CV=10 : 0.9376691495965238\n"
     ]
    }
   ],
   "source": [
    "scores1 = cross_val_score(RandomForestClassifier(n_estimators=40),digits.data, digits.target, cv=10)\n",
    "print('Avg Score for Estimators=40 and CV=10 :',np.average(scores1))"
   ]
  },
  {
   "cell_type": "markdown",
   "metadata": {
    "id": "emlvLleAymNc"
   },
   "source": [
    "![image.png](data:image/png;base64,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)"
   ]
  },
  {
   "cell_type": "markdown",
   "metadata": {
    "id": "RmLu9fFRyu-y"
   },
   "source": [
    "**K-Fold in Visual form**"
   ]
  },
  {
   "cell_type": "code",
   "execution_count": 32,
   "metadata": {},
   "outputs": [],
   "source": [
    "X=digits.data\n",
    "y=digits.target"
   ]
  },
  {
   "cell_type": "code",
   "execution_count": 33,
   "metadata": {
    "colab": {
     "base_uri": "https://localhost:8080/",
     "height": 218
    },
    "executionInfo": {
     "elapsed": 13,
     "status": "error",
     "timestamp": 1672752209245,
     "user": {
      "displayName": "KIPTURN Techno Solutions",
      "userId": "01744339202873123277"
     },
     "user_tz": -330
    },
    "id": "V5eC3KfPynTx",
    "outputId": "9811f280-e676-4de2-8b87-a128d48b1d28"
   },
   "outputs": [
    {
     "name": "stdout",
     "output_type": "stream",
     "text": [
      "0.9710738671632526\n"
     ]
    }
   ],
   "source": [
    "\n",
    "from sklearn.neighbors import KNeighborsClassifier\n",
    "knn = KNeighborsClassifier(n_neighbors=5)\n",
    "scores = cross_val_score(knn, X, y, cv=10, scoring='accuracy')\n",
    "print(scores.mean())"
   ]
  }
 ],
 "metadata": {
  "colab": {
   "authorship_tag": "ABX9TyMz8vVPgtWmlXTBruNlTSHi",
   "provenance": []
  },
  "kernelspec": {
   "display_name": "Python 3 (ipykernel)",
   "language": "python",
   "name": "python3"
  },
  "language_info": {
   "codemirror_mode": {
    "name": "ipython",
    "version": 3
   },
   "file_extension": ".py",
   "mimetype": "text/x-python",
   "name": "python",
   "nbconvert_exporter": "python",
   "pygments_lexer": "ipython3",
   "version": "3.9.7"
  }
 },
 "nbformat": 4,
 "nbformat_minor": 1
}
