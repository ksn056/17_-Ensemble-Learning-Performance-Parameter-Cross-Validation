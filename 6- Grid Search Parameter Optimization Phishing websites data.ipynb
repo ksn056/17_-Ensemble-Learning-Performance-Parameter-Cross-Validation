{
 "cells": [
  {
   "cell_type": "markdown",
   "metadata": {},
   "source": [
    "# Model Evaluation & Hyperparameter Tuning\n",
    "\n",
    "## Grid Search Using Python \n",
    "\n",
    "In this demo, you will learn how to apply GridSearch to find optimal hyperparameters."
   ]
  },
  {
   "cell_type": "markdown",
   "metadata": {},
   "source": [
    "## Problem Statement"
   ]
  },
  {
   "cell_type": "markdown",
   "metadata": {},
   "source": [
    "Phishing websites are hard to detect and problematic when payments are included. These websites cause huge loss to both cusumers and business. Various features were captured from multiple sources aim is to classify them as __phishing, legitimate or suspicious__."
   ]
  },
  {
   "cell_type": "markdown",
   "metadata": {},
   "source": [
    "# Importing Libraries"
   ]
  },
  {
   "cell_type": "code",
   "execution_count": 1,
   "metadata": {},
   "outputs": [],
   "source": [
    "import pandas as pd\n",
    "from sklearn.model_selection import train_test_split,GridSearchCV\n",
    "from sklearn.ensemble import RandomForestClassifier\n",
    "from sklearn.metrics import accuracy_score\n",
    "import matplotlib.pyplot as plt"
   ]
  },
  {
   "cell_type": "markdown",
   "metadata": {},
   "source": [
    "# Data Analysis"
   ]
  },
  {
   "cell_type": "code",
   "execution_count": 2,
   "metadata": {},
   "outputs": [],
   "source": [
    "data=pd.read_csv('PhishingData.csv')"
   ]
  },
  {
   "cell_type": "code",
   "execution_count": 3,
   "metadata": {},
   "outputs": [
    {
     "data": {
      "text/html": [
       "<div>\n",
       "<style scoped>\n",
       "    .dataframe tbody tr th:only-of-type {\n",
       "        vertical-align: middle;\n",
       "    }\n",
       "\n",
       "    .dataframe tbody tr th {\n",
       "        vertical-align: top;\n",
       "    }\n",
       "\n",
       "    .dataframe thead th {\n",
       "        text-align: right;\n",
       "    }\n",
       "</style>\n",
       "<table border=\"1\" class=\"dataframe\">\n",
       "  <thead>\n",
       "    <tr style=\"text-align: right;\">\n",
       "      <th></th>\n",
       "      <th>id</th>\n",
       "      <th>SFH</th>\n",
       "      <th>popUpWidnow</th>\n",
       "      <th>SSLfinal_State</th>\n",
       "      <th>Request_URL</th>\n",
       "      <th>URL_of_Anchor</th>\n",
       "      <th>web_traffic</th>\n",
       "      <th>URL_Length</th>\n",
       "      <th>age_of_domain</th>\n",
       "      <th>having_IP_Address</th>\n",
       "      <th>Result</th>\n",
       "    </tr>\n",
       "  </thead>\n",
       "  <tbody>\n",
       "    <tr>\n",
       "      <th>0</th>\n",
       "      <td>1</td>\n",
       "      <td>1</td>\n",
       "      <td>-1</td>\n",
       "      <td>1</td>\n",
       "      <td>-1</td>\n",
       "      <td>-1</td>\n",
       "      <td>1</td>\n",
       "      <td>1</td>\n",
       "      <td>1</td>\n",
       "      <td>0</td>\n",
       "      <td>0</td>\n",
       "    </tr>\n",
       "    <tr>\n",
       "      <th>1</th>\n",
       "      <td>2</td>\n",
       "      <td>-1</td>\n",
       "      <td>-1</td>\n",
       "      <td>-1</td>\n",
       "      <td>-1</td>\n",
       "      <td>-1</td>\n",
       "      <td>0</td>\n",
       "      <td>1</td>\n",
       "      <td>1</td>\n",
       "      <td>1</td>\n",
       "      <td>1</td>\n",
       "    </tr>\n",
       "    <tr>\n",
       "      <th>2</th>\n",
       "      <td>3</td>\n",
       "      <td>1</td>\n",
       "      <td>-1</td>\n",
       "      <td>0</td>\n",
       "      <td>0</td>\n",
       "      <td>-1</td>\n",
       "      <td>0</td>\n",
       "      <td>-1</td>\n",
       "      <td>1</td>\n",
       "      <td>0</td>\n",
       "      <td>1</td>\n",
       "    </tr>\n",
       "    <tr>\n",
       "      <th>3</th>\n",
       "      <td>4</td>\n",
       "      <td>1</td>\n",
       "      <td>0</td>\n",
       "      <td>1</td>\n",
       "      <td>-1</td>\n",
       "      <td>-1</td>\n",
       "      <td>0</td>\n",
       "      <td>1</td>\n",
       "      <td>1</td>\n",
       "      <td>0</td>\n",
       "      <td>0</td>\n",
       "    </tr>\n",
       "    <tr>\n",
       "      <th>4</th>\n",
       "      <td>5</td>\n",
       "      <td>-1</td>\n",
       "      <td>-1</td>\n",
       "      <td>1</td>\n",
       "      <td>-1</td>\n",
       "      <td>0</td>\n",
       "      <td>0</td>\n",
       "      <td>-1</td>\n",
       "      <td>1</td>\n",
       "      <td>0</td>\n",
       "      <td>1</td>\n",
       "    </tr>\n",
       "  </tbody>\n",
       "</table>\n",
       "</div>"
      ],
      "text/plain": [
       "   id  SFH  popUpWidnow  SSLfinal_State  Request_URL  URL_of_Anchor  \\\n",
       "0   1    1           -1               1           -1             -1   \n",
       "1   2   -1           -1              -1           -1             -1   \n",
       "2   3    1           -1               0            0             -1   \n",
       "3   4    1            0               1           -1             -1   \n",
       "4   5   -1           -1               1           -1              0   \n",
       "\n",
       "   web_traffic  URL_Length  age_of_domain  having_IP_Address  Result  \n",
       "0            1           1              1                  0       0  \n",
       "1            0           1              1                  1       1  \n",
       "2            0          -1              1                  0       1  \n",
       "3            0           1              1                  0       0  \n",
       "4            0          -1              1                  0       1  "
      ]
     },
     "execution_count": 3,
     "metadata": {},
     "output_type": "execute_result"
    }
   ],
   "source": [
    "data.head()"
   ]
  },
  {
   "cell_type": "markdown",
   "metadata": {},
   "source": [
    "<div style=\"background-color:##EDF9FF\">\n",
    "  <ul><li><h3> Testing For Null Values</h3></li></ul>\n",
    "</div>"
   ]
  },
  {
   "cell_type": "code",
   "execution_count": 4,
   "metadata": {},
   "outputs": [
    {
     "data": {
      "text/html": [
       "<div>\n",
       "<style scoped>\n",
       "    .dataframe tbody tr th:only-of-type {\n",
       "        vertical-align: middle;\n",
       "    }\n",
       "\n",
       "    .dataframe tbody tr th {\n",
       "        vertical-align: top;\n",
       "    }\n",
       "\n",
       "    .dataframe thead th {\n",
       "        text-align: right;\n",
       "    }\n",
       "</style>\n",
       "<table border=\"1\" class=\"dataframe\">\n",
       "  <thead>\n",
       "    <tr style=\"text-align: right;\">\n",
       "      <th></th>\n",
       "      <th>Count</th>\n",
       "      <th>Percentage</th>\n",
       "    </tr>\n",
       "  </thead>\n",
       "  <tbody>\n",
       "    <tr>\n",
       "      <th>id</th>\n",
       "      <td>0</td>\n",
       "      <td>0.0</td>\n",
       "    </tr>\n",
       "    <tr>\n",
       "      <th>SFH</th>\n",
       "      <td>0</td>\n",
       "      <td>0.0</td>\n",
       "    </tr>\n",
       "    <tr>\n",
       "      <th>popUpWidnow</th>\n",
       "      <td>0</td>\n",
       "      <td>0.0</td>\n",
       "    </tr>\n",
       "    <tr>\n",
       "      <th>SSLfinal_State</th>\n",
       "      <td>0</td>\n",
       "      <td>0.0</td>\n",
       "    </tr>\n",
       "    <tr>\n",
       "      <th>Request_URL</th>\n",
       "      <td>0</td>\n",
       "      <td>0.0</td>\n",
       "    </tr>\n",
       "    <tr>\n",
       "      <th>URL_of_Anchor</th>\n",
       "      <td>0</td>\n",
       "      <td>0.0</td>\n",
       "    </tr>\n",
       "    <tr>\n",
       "      <th>web_traffic</th>\n",
       "      <td>0</td>\n",
       "      <td>0.0</td>\n",
       "    </tr>\n",
       "    <tr>\n",
       "      <th>URL_Length</th>\n",
       "      <td>0</td>\n",
       "      <td>0.0</td>\n",
       "    </tr>\n",
       "    <tr>\n",
       "      <th>age_of_domain</th>\n",
       "      <td>0</td>\n",
       "      <td>0.0</td>\n",
       "    </tr>\n",
       "    <tr>\n",
       "      <th>having_IP_Address</th>\n",
       "      <td>0</td>\n",
       "      <td>0.0</td>\n",
       "    </tr>\n",
       "    <tr>\n",
       "      <th>Result</th>\n",
       "      <td>0</td>\n",
       "      <td>0.0</td>\n",
       "    </tr>\n",
       "  </tbody>\n",
       "</table>\n",
       "</div>"
      ],
      "text/plain": [
       "                   Count  Percentage\n",
       "id                     0         0.0\n",
       "SFH                    0         0.0\n",
       "popUpWidnow            0         0.0\n",
       "SSLfinal_State         0         0.0\n",
       "Request_URL            0         0.0\n",
       "URL_of_Anchor          0         0.0\n",
       "web_traffic            0         0.0\n",
       "URL_Length             0         0.0\n",
       "age_of_domain          0         0.0\n",
       "having_IP_Address      0         0.0\n",
       "Result                 0         0.0"
      ]
     },
     "execution_count": 4,
     "metadata": {},
     "output_type": "execute_result"
    }
   ],
   "source": [
    "pd.DataFrame({'Count':data.isnull().sum(),'Percentage':data.isnull().sum()/data.shape[0]})"
   ]
  },
  {
   "cell_type": "markdown",
   "metadata": {},
   "source": [
    "<div style=\"background-color:##FBFFE3\">\n",
    "    <div style=\"float:left\">\n",
    "        <img src='https://drive.google.com/uc?export=download&id=1gpc8kbwaenTpaIvnO_MQR3vw12rKYQrJ', width=20,height=20,>\n",
    "    </div>\n",
    "    <span style=\"padding:20px;\">Dataset has no null values.</span>\n",
    "</div>"
   ]
  },
  {
   "cell_type": "markdown",
   "metadata": {},
   "source": [
    "<div style=\"background-color:##EDF9FF\">\n",
    "  <ul><li><h3> Check Distribution Of Target Variable</h3></li></ul>\n",
    "</div>"
   ]
  },
  {
   "cell_type": "code",
   "execution_count": 5,
   "metadata": {},
   "outputs": [
    {
     "data": {
      "text/html": [
       "<div>\n",
       "<style scoped>\n",
       "    .dataframe tbody tr th:only-of-type {\n",
       "        vertical-align: middle;\n",
       "    }\n",
       "\n",
       "    .dataframe tbody tr th {\n",
       "        vertical-align: top;\n",
       "    }\n",
       "\n",
       "    .dataframe thead th {\n",
       "        text-align: right;\n",
       "    }\n",
       "</style>\n",
       "<table border=\"1\" class=\"dataframe\">\n",
       "  <thead>\n",
       "    <tr style=\"text-align: right;\">\n",
       "      <th></th>\n",
       "      <th>Counts</th>\n",
       "      <th>Percentage</th>\n",
       "    </tr>\n",
       "  </thead>\n",
       "  <tbody>\n",
       "    <tr>\n",
       "      <th>-1</th>\n",
       "      <td>702</td>\n",
       "      <td>0.518847</td>\n",
       "    </tr>\n",
       "    <tr>\n",
       "      <th>1</th>\n",
       "      <td>548</td>\n",
       "      <td>0.405026</td>\n",
       "    </tr>\n",
       "    <tr>\n",
       "      <th>0</th>\n",
       "      <td>103</td>\n",
       "      <td>0.076127</td>\n",
       "    </tr>\n",
       "  </tbody>\n",
       "</table>\n",
       "</div>"
      ],
      "text/plain": [
       "    Counts  Percentage\n",
       "-1     702    0.518847\n",
       " 1     548    0.405026\n",
       " 0     103    0.076127"
      ]
     },
     "execution_count": 5,
     "metadata": {},
     "output_type": "execute_result"
    }
   ],
   "source": [
    "target_ratio=pd.DataFrame({'Counts':data.Result.value_counts(),'Percentage':data.Result.value_counts()/len(data)})\n",
    "target_ratio\n"
   ]
  },
  {
   "cell_type": "code",
   "execution_count": 6,
   "metadata": {
    "scrolled": true
   },
   "outputs": [
    {
     "data": {
      "image/png": "[encoded data removed]",
      "text/plain": [
       "<Figure size 720x72 with 1 Axes>"
      ]
     },
     "metadata": {
      "needs_background": "light"
     },
     "output_type": "display_data"
    }
   ],
   "source": [
    "plt.figure(figsize = (10,1))\n",
    "plt.barh(['Legitimate','Phishing','Suspicious'], target_ratio.Percentage)\n",
    "plt.xlabel('Percentage')\n",
    "plt.show()"
   ]
  },
  {
   "cell_type": "markdown",
   "metadata": {},
   "source": [
    "<div style=\"background-color:##EDF9FF\">\n",
    "  <ul><li><h3>Selecting Features</h3></li></ul>\n",
    "</div>"
   ]
  },
  {
   "cell_type": "code",
   "execution_count": 7,
   "metadata": {},
   "outputs": [],
   "source": [
    "X=data.drop(['Result','id'],axis=1)\n",
    "y=data.Result"
   ]
  },
  {
   "cell_type": "markdown",
   "metadata": {},
   "source": [
    "# Grid Search \n",
    "\n",
    "Here are the parameters for <a href='https://scikit-learn.org/stable/modules/generated/sklearn.model_selection.GridSearchCV.html#sklearn.model_selection.GridSearchCV'>GridSearchCV</a>:\n",
    "- __estimator__: `model`\n",
    "- __param_grid__: `dist or list of dictionaries` Parameters to the estimator/model\n",
    "- __scoring__: `string,callable, list/tuple, dict or None, default: None` Evaluating metrics\n",
    "- __cv__: `int or callable` Cross validation"
   ]
  },
  {
   "cell_type": "code",
   "execution_count": 8,
   "metadata": {},
   "outputs": [
    {
     "data": {
      "text/plain": [
       "GridSearchCV(cv=3, error_score=nan,\n",
       "             estimator=RandomForestClassifier(bootstrap=True, ccp_alpha=0.0,\n",
       "                                              class_weight=None,\n",
       "                                              criterion='gini', max_depth=None,\n",
       "                                              max_features='auto',\n",
       "                                              max_leaf_nodes=None,\n",
       "                                              max_samples=None,\n",
       "                                              min_impurity_decrease=0.0,\n",
       "                                              min_impurity_split=None,\n",
       "                                              min_samples_leaf=1,\n",
       "                                              min_samples_split=2,\n",
       "                                              min_weight_fraction_leaf=0.0,\n",
       "                                              n_estimators=100, n_jobs=None,\n",
       "                                              oob_score=False,\n",
       "                                              random_state=None, verbose=0,\n",
       "                                              warm_start=False),\n",
       "             iid='deprecated', n_jobs=None,\n",
       "             param_grid={'criterion': ['gini', 'entropy'],\n",
       "                         'n_estimators': [100, 150, 200, 300]},\n",
       "             pre_dispatch='2*n_jobs', refit=True, return_train_score=False,\n",
       "             scoring='accuracy', verbose=0)"
      ]
     },
     "execution_count": 8,
     "metadata": {},
     "output_type": "execute_result"
    }
   ],
   "source": [
    "params = { \"criterion\" : [\"gini\", \"entropy\"], \"n_estimators\": [100, 150, 200,300]}\n",
    "rf_gsv=GridSearchCV(estimator=RandomForestClassifier(),param_grid=params,cv=3,scoring='accuracy')\n",
    "rf_gsv.fit(X,y)"
   ]
  },
  {
   "cell_type": "markdown",
   "metadata": {},
   "source": [
    "<div style=\"background-color:##EDF9FF\">\n",
    "  <ul><li><h3>Results sorted by rank</h3></li></ul>\n",
    "</div>"
   ]
  },
  {
   "cell_type": "code",
   "execution_count": 9,
   "metadata": {
    "scrolled": false
   },
   "outputs": [
    {
     "data": {
      "text/html": [
       "<div>\n",
       "<style scoped>\n",
       "    .dataframe tbody tr th:only-of-type {\n",
       "        vertical-align: middle;\n",
       "    }\n",
       "\n",
       "    .dataframe tbody tr th {\n",
       "        vertical-align: top;\n",
       "    }\n",
       "\n",
       "    .dataframe thead th {\n",
       "        text-align: right;\n",
       "    }\n",
       "</style>\n",
       "<table border=\"1\" class=\"dataframe\">\n",
       "  <thead>\n",
       "    <tr style=\"text-align: right;\">\n",
       "      <th></th>\n",
       "      <th>mean_fit_time</th>\n",
       "      <th>std_fit_time</th>\n",
       "      <th>mean_score_time</th>\n",
       "      <th>std_score_time</th>\n",
       "      <th>param_criterion</th>\n",
       "      <th>param_n_estimators</th>\n",
       "      <th>params</th>\n",
       "      <th>split0_test_score</th>\n",
       "      <th>split1_test_score</th>\n",
       "      <th>split2_test_score</th>\n",
       "      <th>mean_test_score</th>\n",
       "      <th>std_test_score</th>\n",
       "      <th>rank_test_score</th>\n",
       "    </tr>\n",
       "  </thead>\n",
       "  <tbody>\n",
       "    <tr>\n",
       "      <th>7</th>\n",
       "      <td>1.347545</td>\n",
       "      <td>0.326564</td>\n",
       "      <td>0.122494</td>\n",
       "      <td>0.040786</td>\n",
       "      <td>entropy</td>\n",
       "      <td>300</td>\n",
       "      <td>{'criterion': 'entropy', 'n_estimators': 300}</td>\n",
       "      <td>0.882483</td>\n",
       "      <td>0.886918</td>\n",
       "      <td>0.922395</td>\n",
       "      <td>0.897265</td>\n",
       "      <td>0.017861</td>\n",
       "      <td>1</td>\n",
       "    </tr>\n",
       "    <tr>\n",
       "      <th>2</th>\n",
       "      <td>0.635143</td>\n",
       "      <td>0.110464</td>\n",
       "      <td>0.051949</td>\n",
       "      <td>0.003249</td>\n",
       "      <td>gini</td>\n",
       "      <td>200</td>\n",
       "      <td>{'criterion': 'gini', 'n_estimators': 200}</td>\n",
       "      <td>0.886918</td>\n",
       "      <td>0.884701</td>\n",
       "      <td>0.920177</td>\n",
       "      <td>0.897265</td>\n",
       "      <td>0.016227</td>\n",
       "      <td>2</td>\n",
       "    </tr>\n",
       "    <tr>\n",
       "      <th>3</th>\n",
       "      <td>0.966720</td>\n",
       "      <td>0.167858</td>\n",
       "      <td>0.082547</td>\n",
       "      <td>0.006776</td>\n",
       "      <td>gini</td>\n",
       "      <td>300</td>\n",
       "      <td>{'criterion': 'gini', 'n_estimators': 300}</td>\n",
       "      <td>0.886918</td>\n",
       "      <td>0.880266</td>\n",
       "      <td>0.920177</td>\n",
       "      <td>0.895787</td>\n",
       "      <td>0.017459</td>\n",
       "      <td>3</td>\n",
       "    </tr>\n",
       "    <tr>\n",
       "      <th>0</th>\n",
       "      <td>0.254329</td>\n",
       "      <td>0.013172</td>\n",
       "      <td>0.023966</td>\n",
       "      <td>0.000002</td>\n",
       "      <td>gini</td>\n",
       "      <td>100</td>\n",
       "      <td>{'criterion': 'gini', 'n_estimators': 100}</td>\n",
       "      <td>0.884701</td>\n",
       "      <td>0.884701</td>\n",
       "      <td>0.913525</td>\n",
       "      <td>0.894309</td>\n",
       "      <td>0.013588</td>\n",
       "      <td>4</td>\n",
       "    </tr>\n",
       "    <tr>\n",
       "      <th>1</th>\n",
       "      <td>0.391497</td>\n",
       "      <td>0.009773</td>\n",
       "      <td>0.034623</td>\n",
       "      <td>0.001863</td>\n",
       "      <td>gini</td>\n",
       "      <td>150</td>\n",
       "      <td>{'criterion': 'gini', 'n_estimators': 150}</td>\n",
       "      <td>0.886918</td>\n",
       "      <td>0.878049</td>\n",
       "      <td>0.915743</td>\n",
       "      <td>0.893570</td>\n",
       "      <td>0.016091</td>\n",
       "      <td>5</td>\n",
       "    </tr>\n",
       "    <tr>\n",
       "      <th>4</th>\n",
       "      <td>0.362183</td>\n",
       "      <td>0.030831</td>\n",
       "      <td>0.026631</td>\n",
       "      <td>0.006790</td>\n",
       "      <td>entropy</td>\n",
       "      <td>100</td>\n",
       "      <td>{'criterion': 'entropy', 'n_estimators': 100}</td>\n",
       "      <td>0.886918</td>\n",
       "      <td>0.878049</td>\n",
       "      <td>0.913525</td>\n",
       "      <td>0.892831</td>\n",
       "      <td>0.015075</td>\n",
       "      <td>6</td>\n",
       "    </tr>\n",
       "    <tr>\n",
       "      <th>6</th>\n",
       "      <td>0.672447</td>\n",
       "      <td>0.078311</td>\n",
       "      <td>0.055916</td>\n",
       "      <td>0.005658</td>\n",
       "      <td>entropy</td>\n",
       "      <td>200</td>\n",
       "      <td>{'criterion': 'entropy', 'n_estimators': 200}</td>\n",
       "      <td>0.875831</td>\n",
       "      <td>0.884701</td>\n",
       "      <td>0.917960</td>\n",
       "      <td>0.892831</td>\n",
       "      <td>0.018134</td>\n",
       "      <td>6</td>\n",
       "    </tr>\n",
       "    <tr>\n",
       "      <th>5</th>\n",
       "      <td>0.569917</td>\n",
       "      <td>0.054319</td>\n",
       "      <td>0.041277</td>\n",
       "      <td>0.001904</td>\n",
       "      <td>entropy</td>\n",
       "      <td>150</td>\n",
       "      <td>{'criterion': 'entropy', 'n_estimators': 150}</td>\n",
       "      <td>0.884701</td>\n",
       "      <td>0.882483</td>\n",
       "      <td>0.911308</td>\n",
       "      <td>0.892831</td>\n",
       "      <td>0.013097</td>\n",
       "      <td>8</td>\n",
       "    </tr>\n",
       "  </tbody>\n",
       "</table>\n",
       "</div>"
      ],
      "text/plain": [
       "   mean_fit_time  std_fit_time  mean_score_time  std_score_time  \\\n",
       "7       1.347545      0.326564         0.122494        0.040786   \n",
       "2       0.635143      0.110464         0.051949        0.003249   \n",
       "3       0.966720      0.167858         0.082547        0.006776   \n",
       "0       0.254329      0.013172         0.023966        0.000002   \n",
       "1       0.391497      0.009773         0.034623        0.001863   \n",
       "4       0.362183      0.030831         0.026631        0.006790   \n",
       "6       0.672447      0.078311         0.055916        0.005658   \n",
       "5       0.569917      0.054319         0.041277        0.001904   \n",
       "\n",
       "  param_criterion param_n_estimators  \\\n",
       "7         entropy                300   \n",
       "2            gini                200   \n",
       "3            gini                300   \n",
       "0            gini                100   \n",
       "1            gini                150   \n",
       "4         entropy                100   \n",
       "6         entropy                200   \n",
       "5         entropy                150   \n",
       "\n",
       "                                          params  split0_test_score  \\\n",
       "7  {'criterion': 'entropy', 'n_estimators': 300}           0.882483   \n",
       "2     {'criterion': 'gini', 'n_estimators': 200}           0.886918   \n",
       "3     {'criterion': 'gini', 'n_estimators': 300}           0.886918   \n",
       "0     {'criterion': 'gini', 'n_estimators': 100}           0.884701   \n",
       "1     {'criterion': 'gini', 'n_estimators': 150}           0.886918   \n",
       "4  {'criterion': 'entropy', 'n_estimators': 100}           0.886918   \n",
       "6  {'criterion': 'entropy', 'n_estimators': 200}           0.875831   \n",
       "5  {'criterion': 'entropy', 'n_estimators': 150}           0.884701   \n",
       "\n",
       "   split1_test_score  split2_test_score  mean_test_score  std_test_score  \\\n",
       "7           0.886918           0.922395         0.897265        0.017861   \n",
       "2           0.884701           0.920177         0.897265        0.016227   \n",
       "3           0.880266           0.920177         0.895787        0.017459   \n",
       "0           0.884701           0.913525         0.894309        0.013588   \n",
       "1           0.878049           0.915743         0.893570        0.016091   \n",
       "4           0.878049           0.913525         0.892831        0.015075   \n",
       "6           0.884701           0.917960         0.892831        0.018134   \n",
       "5           0.882483           0.911308         0.892831        0.013097   \n",
       "\n",
       "   rank_test_score  \n",
       "7                1  \n",
       "2                2  \n",
       "3                3  \n",
       "0                4  \n",
       "1                5  \n",
       "4                6  \n",
       "6                6  \n",
       "5                8  "
      ]
     },
     "execution_count": 9,
     "metadata": {},
     "output_type": "execute_result"
    }
   ],
   "source": [
    "pd.DataFrame(rf_gsv.cv_results_).sort_values('rank_test_score')"
   ]
  },
  {
   "cell_type": "code",
   "execution_count": 10,
   "metadata": {
    "scrolled": true
   },
   "outputs": [
    {
     "data": {
      "text/plain": [
       "{'criterion': 'entropy', 'n_estimators': 300}"
      ]
     },
     "execution_count": 10,
     "metadata": {},
     "output_type": "execute_result"
    }
   ],
   "source": [
    "rf_gsv.best_params_"
   ]
  },
  {
   "cell_type": "code",
   "execution_count": 11,
   "metadata": {},
   "outputs": [
    {
     "data": {
      "text/plain": [
       "RandomForestClassifier(bootstrap=True, ccp_alpha=0.0, class_weight=None,\n",
       "                       criterion='entropy', max_depth=None, max_features='auto',\n",
       "                       max_leaf_nodes=None, max_samples=None,\n",
       "                       min_impurity_decrease=0.0, min_impurity_split=None,\n",
       "                       min_samples_leaf=1, min_samples_split=2,\n",
       "                       min_weight_fraction_leaf=0.0, n_estimators=300,\n",
       "                       n_jobs=None, oob_score=False, random_state=None,\n",
       "                       verbose=0, warm_start=False)"
      ]
     },
     "execution_count": 11,
     "metadata": {},
     "output_type": "execute_result"
    }
   ],
   "source": [
    "rf_gsv.best_estimator_"
   ]
  }
 ],
 "metadata": {
  "kernelspec": {
   "display_name": "Python 3 (ipykernel)",
   "language": "python",
   "name": "python3"
  },
  "language_info": {
   "codemirror_mode": {
    "name": "ipython",
    "version": 3
   },
   "file_extension": ".py",
   "mimetype": "text/x-python",
   "name": "python",
   "nbconvert_exporter": "python",
   "pygments_lexer": "ipython3",
   "version": "3.9.7"
  }
 },
 "nbformat": 4,
 "nbformat_minor": 2
}
